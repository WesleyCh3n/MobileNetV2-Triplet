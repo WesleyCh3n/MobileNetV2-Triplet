{
 "cells": [
  {
   "cell_type": "code",
   "execution_count": 1,
   "metadata": {},
   "outputs": [],
   "source": [
    "import os\n",
    "os.environ['TF_CPP_MIN_LOG_LEVEL'] = '2'  #supress tensorflow info except error\n",
    "\n",
    "import argparse\n",
    "import tensorflow as tf\n",
    "\n",
    "from tensorflow.keras.applications import MobileNetV2\n",
    "from tensorflow.keras.models import Model\n",
    "from model.utils import Param\n",
    "\n",
    "if __name__ == \"__main__\":\n",
    "    baseModel = MobileNetV2(include_top=False,\n",
    "                            weights=None,\n",
    "                            input_shape=(224, 224, 3),\n",
    "                            pooling=\"avg\")\n",
    "    fc = tf.keras.layers.Dense(128,\n",
    "                               activation=None,\n",
    "                               name=\"embeddings\")(baseModel.output)\n",
    "    l2 = tf.math.l2_normalize(fc)\n",
    "\n",
    "    model = Model(inputs=baseModel.input, outputs=l2)\n",
    "    tf.keras.utils.plot_model(model, to_file=\"model.png\", show_shapes=True)"
   ]
  },
  {
   "cell_type": "code",
   "execution_count": null,
   "metadata": {},
   "outputs": [],
   "source": []
  }
 ],
 "metadata": {
  "kernelspec": {
   "display_name": "Python 3",
   "language": "python",
   "name": "python3"
  },
  "language_info": {
   "codemirror_mode": {
    "name": "ipython",
    "version": 3
   },
   "file_extension": ".py",
   "mimetype": "text/x-python",
   "name": "python",
   "nbconvert_exporter": "python",
   "pygments_lexer": "ipython3",
   "version": "3.6.9"
  }
 },
 "nbformat": 4,
 "nbformat_minor": 4
}
