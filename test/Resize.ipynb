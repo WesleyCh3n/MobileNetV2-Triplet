{
 "cells": [
  {
   "cell_type": "code",
   "execution_count": 1,
   "metadata": {},
   "outputs": [],
   "source": [
    "import cv2\n",
    "import matplotlib.pyplot as plt\n",
    "import tensorflow as tf\n",
    "import numpy as np"
   ]
  },
  {
   "cell_type": "code",
   "execution_count": 2,
   "metadata": {},
   "outputs": [],
   "source": [
    "def plt_display(image, title):\n",
    "    fig = plt.figure()\n",
    "    a = fig.add_subplot(1, 1, 1)\n",
    "    imgplot = plt.imshow(image)\n",
    "    a.set_title(title)"
   ]
  },
  {
   "cell_type": "code",
   "execution_count": 3,
   "metadata": {},
   "outputs": [],
   "source": [
    "imagePath = imagePath=\"/home/ubuntu/dataset/DATASET/train/Cow00/Cow00_0_51.jpg\"\n",
    "image_string = tf.io.read_file(imagePath)"
   ]
  },
  {
   "cell_type": "code",
   "execution_count": 4,
   "metadata": {},
   "outputs": [
    {
     "name": "stdout",
     "output_type": "stream",
     "text": [
      "[[[112. 105.  89.]\n",
      "  [115. 108.  92.]\n",
      "  [117. 110.  94.]\n",
      "  ...\n",
      "  [  7.   8.   3.]\n",
      "  [ 12.   8.   5.]\n",
      "  [ 13.   9.   6.]]\n",
      "\n",
      " [[115. 108.  92.]\n",
      "  [117. 110.  94.]\n",
      "  [118. 111.  95.]\n",
      "  ...\n",
      "  [  8.   7.   3.]\n",
      "  [ 12.   8.   5.]\n",
      "  [ 13.   9.   6.]]\n",
      "\n",
      " [[116. 109.  93.]\n",
      "  [118. 111.  95.]\n",
      "  [119. 112.  96.]\n",
      "  ...\n",
      "  [  8.   7.   3.]\n",
      "  [ 12.   8.   5.]\n",
      "  [ 13.   9.   6.]]\n",
      "\n",
      " ...\n",
      "\n",
      " [[141. 133.  97.]\n",
      "  [145. 137. 101.]\n",
      "  [143. 135.  99.]\n",
      "  ...\n",
      "  [106. 111.  70.]\n",
      "  [112. 117.  76.]\n",
      "  [117. 122.  81.]]\n",
      "\n",
      " [[142. 134.  98.]\n",
      "  [147. 139. 103.]\n",
      "  [144. 136. 100.]\n",
      "  ...\n",
      "  [116. 121.  80.]\n",
      "  [127. 132.  91.]\n",
      "  [122. 127.  86.]]\n",
      "\n",
      " [[152. 144. 108.]\n",
      "  [157. 149. 113.]\n",
      "  [152. 144. 108.]\n",
      "  ...\n",
      "  [116. 123.  81.]\n",
      "  [127. 134.  92.]\n",
      "  [122. 129.  87.]]]\n",
      "tf.Tensor(\n",
      "[[[112. 105.  89.]\n",
      "  [115. 108.  92.]\n",
      "  [117. 110.  94.]\n",
      "  ...\n",
      "  [  7.   8.   3.]\n",
      "  [ 12.   8.   5.]\n",
      "  [ 13.   9.   6.]]\n",
      "\n",
      " [[115. 108.  92.]\n",
      "  [117. 110.  94.]\n",
      "  [118. 111.  95.]\n",
      "  ...\n",
      "  [  8.   7.   3.]\n",
      "  [ 12.   8.   5.]\n",
      "  [ 13.   9.   6.]]\n",
      "\n",
      " [[116. 109.  93.]\n",
      "  [118. 111.  95.]\n",
      "  [119. 112.  96.]\n",
      "  ...\n",
      "  [  8.   7.   3.]\n",
      "  [ 12.   8.   5.]\n",
      "  [ 13.   9.   6.]]\n",
      "\n",
      " ...\n",
      "\n",
      " [[141. 133.  97.]\n",
      "  [145. 137. 101.]\n",
      "  [143. 135.  99.]\n",
      "  ...\n",
      "  [106. 111.  70.]\n",
      "  [112. 117.  76.]\n",
      "  [117. 122.  81.]]\n",
      "\n",
      " [[142. 134.  98.]\n",
      "  [147. 139. 103.]\n",
      "  [144. 136. 100.]\n",
      "  ...\n",
      "  [116. 121.  80.]\n",
      "  [127. 132.  91.]\n",
      "  [122. 127.  86.]]\n",
      "\n",
      " [[152. 144. 108.]\n",
      "  [157. 149. 113.]\n",
      "  [152. 144. 108.]\n",
      "  ...\n",
      "  [116. 123.  81.]\n",
      "  [127. 134.  92.]\n",
      "  [122. 129.  87.]]], shape=(231, 192, 3), dtype=float32)\n"
     ]
    },
    {
     "data": {
      "image/png": "[encoded data removed]",
      "text/plain": [
       "<Figure size 432x288 with 1 Axes>"
      ]
     },
     "metadata": {
      "needs_background": "light"
     },
     "output_type": "display_data"
    }
   ],
   "source": [
    "cvImg = cv2.imread(imagePath).astype(np.float32)[:,:,::-1]\n",
    "tfImg = tf.image.decode_jpeg(image_string, channels=3, dct_method='INTEGER_ACCURATE')\n",
    "tfImg = tf.cast(tfImg,dtype=tf.float32)\n",
    "print(cvImg)\n",
    "print(tfImg)\n",
    "plt_display(np.abs(cvImg-tfImg.numpy()), \"Interger accurate\")"
   ]
  },
  {
   "cell_type": "code",
   "execution_count": 5,
   "metadata": {},
   "outputs": [
    {
     "name": "stdout",
     "output_type": "stream",
     "text": [
      "[[[0. 0. 0.]\n",
      "  [0. 0. 0.]\n",
      "  [0. 0. 0.]\n",
      "  ...\n",
      "  [0. 0. 0.]\n",
      "  [0. 0. 0.]\n",
      "  [0. 0. 0.]]\n",
      "\n",
      " [[0. 0. 0.]\n",
      "  [0. 0. 0.]\n",
      "  [0. 0. 0.]\n",
      "  ...\n",
      "  [0. 0. 0.]\n",
      "  [0. 0. 0.]\n",
      "  [0. 0. 0.]]\n",
      "\n",
      " [[0. 0. 0.]\n",
      "  [0. 0. 0.]\n",
      "  [0. 0. 0.]\n",
      "  ...\n",
      "  [0. 0. 0.]\n",
      "  [0. 0. 0.]\n",
      "  [0. 0. 0.]]\n",
      "\n",
      " ...\n",
      "\n",
      " [[0. 0. 0.]\n",
      "  [0. 0. 0.]\n",
      "  [0. 0. 0.]\n",
      "  ...\n",
      "  [0. 0. 0.]\n",
      "  [0. 0. 0.]\n",
      "  [0. 0. 0.]]\n",
      "\n",
      " [[0. 0. 0.]\n",
      "  [0. 0. 0.]\n",
      "  [0. 0. 0.]\n",
      "  ...\n",
      "  [0. 0. 0.]\n",
      "  [0. 0. 0.]\n",
      "  [0. 0. 0.]]\n",
      "\n",
      " [[0. 0. 0.]\n",
      "  [0. 0. 0.]\n",
      "  [0. 0. 0.]\n",
      "  ...\n",
      "  [0. 0. 0.]\n",
      "  [0. 0. 0.]\n",
      "  [0. 0. 0.]]]\n"
     ]
    },
    {
     "data": {
      "image/png": "[encoded data removed]",
      "text/plain": [
       "<Figure size 432x288 with 1 Axes>"
      ]
     },
     "metadata": {
      "needs_background": "light"
     },
     "output_type": "display_data"
    }
   ],
   "source": [
    "cvImg = cvImg/255.\n",
    "tfImg = tfImg/255.\n",
    "# tfImg = tf.image.convert_image_dtype(tfImg, tf.float32)\n",
    "print(np.abs(cvImg-tfImg.numpy()))\n",
    "plt_display(np.abs(cvImg-tfImg.numpy()), \"Normalize to 0~1\")"
   ]
  },
  {
   "cell_type": "code",
   "execution_count": 6,
   "metadata": {},
   "outputs": [
    {
     "name": "stdout",
     "output_type": "stream",
     "text": [
      "[[[0.0000000e+00 0.0000000e+00 0.0000000e+00]\n",
      "  [0.0000000e+00 0.0000000e+00 0.0000000e+00]\n",
      "  [0.0000000e+00 0.0000000e+00 0.0000000e+00]\n",
      "  ...\n",
      "  [8.5681677e-08 0.0000000e+00 3.4458935e-08]\n",
      "  [3.3527613e-08 3.3527613e-08 3.3527613e-08]\n",
      "  [0.0000000e+00 0.0000000e+00 0.0000000e+00]]\n",
      "\n",
      " [[0.0000000e+00 0.0000000e+00 0.0000000e+00]\n",
      "  [0.0000000e+00 0.0000000e+00 0.0000000e+00]\n",
      "  [0.0000000e+00 0.0000000e+00 0.0000000e+00]\n",
      "  ...\n",
      "  [6.7055225e-08 1.8626451e-08 3.4458935e-08]\n",
      "  [3.3527613e-08 3.3527613e-08 3.3527613e-08]\n",
      "  [0.0000000e+00 0.0000000e+00 0.0000000e+00]]\n",
      "\n",
      " [[0.0000000e+00 0.0000000e+00 0.0000000e+00]\n",
      "  [0.0000000e+00 0.0000000e+00 0.0000000e+00]\n",
      "  [0.0000000e+00 0.0000000e+00 0.0000000e+00]\n",
      "  ...\n",
      "  [6.7055225e-08 1.8626451e-08 3.4458935e-08]\n",
      "  [3.3527613e-08 3.3527613e-08 3.3527613e-08]\n",
      "  [0.0000000e+00 0.0000000e+00 0.0000000e+00]]\n",
      "\n",
      " ...\n",
      "\n",
      " [[0.0000000e+00 0.0000000e+00 0.0000000e+00]\n",
      "  [0.0000000e+00 0.0000000e+00 0.0000000e+00]\n",
      "  [0.0000000e+00 0.0000000e+00 0.0000000e+00]\n",
      "  ...\n",
      "  [8.9406967e-08 8.9406967e-08 8.9406967e-08]\n",
      "  [2.0861626e-07 2.0861626e-07 2.0861626e-07]\n",
      "  [0.0000000e+00 0.0000000e+00 0.0000000e+00]]\n",
      "\n",
      " [[0.0000000e+00 0.0000000e+00 0.0000000e+00]\n",
      "  [0.0000000e+00 0.0000000e+00 0.0000000e+00]\n",
      "  [0.0000000e+00 0.0000000e+00 0.0000000e+00]\n",
      "  ...\n",
      "  [1.4901161e-07 1.7881393e-07 1.4901161e-07]\n",
      "  [1.7881393e-07 1.1920929e-07 1.7881393e-07]\n",
      "  [0.0000000e+00 0.0000000e+00 0.0000000e+00]]\n",
      "\n",
      " [[0.0000000e+00 0.0000000e+00 0.0000000e+00]\n",
      "  [0.0000000e+00 0.0000000e+00 0.0000000e+00]\n",
      "  [5.9604645e-08 5.9604645e-08 0.0000000e+00]\n",
      "  ...\n",
      "  [1.7881393e-07 2.0861626e-07 1.7881393e-07]\n",
      "  [1.7881393e-07 1.1920929e-07 1.7881393e-07]\n",
      "  [0.0000000e+00 0.0000000e+00 0.0000000e+00]]]\n"
     ]
    },
    {
     "data": {
      "image/png": "[encoded data removed]",
      "text/plain": [
       "<Figure size 432x288 with 1 Axes>"
      ]
     },
     "metadata": {
      "needs_background": "light"
     },
     "output_type": "display_data"
    }
   ],
   "source": [
    "cvImg = cv2.resize(cvImg, (224, 224))\n",
    "tfImg = tf.image.resize(tfImg, [224, 224])\n",
    "print(np.abs(cvImg-tfImg.numpy()))\n",
    "plt_display(np.abs(cvImg-tfImg.numpy()), \"Resize\")"
   ]
  },
  {
   "cell_type": "code",
   "execution_count": null,
   "metadata": {},
   "outputs": [],
   "source": []
  }
 ],
 "metadata": {
  "kernelspec": {
   "display_name": "Python 3",
   "language": "python",
   "name": "python3"
  },
  "language_info": {
   "codemirror_mode": {
    "name": "ipython",
    "version": 3
   },
   "file_extension": ".py",
   "mimetype": "text/x-python",
   "name": "python",
   "nbconvert_exporter": "python",
   "pygments_lexer": "ipython3",
   "version": "3.6.9"
  }
 },
 "nbformat": 4,
 "nbformat_minor": 4
}
